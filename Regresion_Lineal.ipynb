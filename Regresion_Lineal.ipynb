{
  "nbformat": 4,
  "nbformat_minor": 0,
  "metadata": {
    "colab": {
      "name": "Regresion_Lineal.ipynb",
      "provenance": [],
      "collapsed_sections": [],
      "authorship_tag": "ABX9TyNmTX8Kt+Dmp0/kyIPHTZ4C",
      "include_colab_link": true
    },
    "kernelspec": {
      "name": "python3",
      "display_name": "Python 3"
    }
  },
  "cells": [
    {
      "cell_type": "markdown",
      "metadata": {
        "id": "view-in-github",
        "colab_type": "text"
      },
      "source": [
        "<a href=\"https://colab.research.google.com/github/dorianivc/Programacion-Dinamica-y-Estocastica-con-Python/blob/master/Regresion_Lineal.ipynb\" target=\"_parent\"><img src=\"https://colab.research.google.com/assets/colab-badge.svg\" alt=\"Open In Colab\"/></a>"
      ]
    },
    {
      "cell_type": "code",
      "metadata": {
        "id": "01kkSVDTT391",
        "colab_type": "code",
        "colab": {
          "base_uri": "https://localhost:8080/",
          "height": 35
        },
        "outputId": "8b48bd07-4f61-4630-f8d6-c19acbd737a8"
      },
      "source": [
        "import numpy as np\n",
        "x=np.array([0,1,2,3,4,5,6,7,8])\n",
        "y= np.array([1,2,3,4,5,6,8,7,9])\n",
        "\n",
        "coeffs=np.polyfit(x,y,1)\n",
        "print(coeffs)"
      ],
      "execution_count": 1,
      "outputs": [
        {
          "output_type": "stream",
          "text": [
            "[0.98333333 1.06666667]\n"
          ],
          "name": "stdout"
        }
      ]
    },
    {
      "cell_type": "code",
      "metadata": {
        "id": "7dlB7LKqUi6a",
        "colab_type": "code",
        "colab": {}
      },
      "source": [
        "m=coeffs[0]\n",
        "b=coeffs[1]\n",
        "\n",
        "est_y=(m*x)+ b\n"
      ],
      "execution_count": 3,
      "outputs": []
    },
    {
      "cell_type": "code",
      "metadata": {
        "id": "SOxh0LX0U4Tq",
        "colab_type": "code",
        "colab": {
          "base_uri": "https://localhost:8080/",
          "height": 283
        },
        "outputId": "38460e09-847c-4fb5-9d77-8d3f84d78f32"
      },
      "source": [
        "import matplotlib.pyplot as plt\n",
        "plt.plot(x, est_y)\n",
        "plt.scatter(x,y)\n",
        "plt.show"
      ],
      "execution_count": 4,
      "outputs": [
        {
          "output_type": "execute_result",
          "data": {
            "text/plain": [
              "<function matplotlib.pyplot.show>"
            ]
          },
          "metadata": {
            "tags": []
          },
          "execution_count": 4
        },
        {
          "output_type": "display_data",
          "data": {
            "image/png": "[encoded data removed]",
            "text/plain": [
              "<Figure size 432x288 with 1 Axes>"
            ]
          },
          "metadata": {
            "tags": [],
            "needs_background": "light"
          }
        }
      ]
    }
  ]
}